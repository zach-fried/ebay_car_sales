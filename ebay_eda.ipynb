{
 "cells": [
  {
   "cell_type": "code",
   "execution_count": 1,
   "metadata": {},
   "outputs": [],
   "source": [
    "import numpy as np\n",
    "import pandas as pd"
   ]
  },
  {
   "cell_type": "markdown",
   "metadata": {},
   "source": [
    "After finshing cleaning the dataset, we're going to be doing some basic, exploratory data analysis (EDA). \n",
    "\n",
    "### Some questions that I would like to investigate include:\n",
    "1. Which car brand is most common?\n",
    "2. Which car brand sells for the most amount of money on average?\n",
    "3. Does the car's mileage impact it's sale price?\n",
    "4. Do automatic or manual cars have a higher resale value?\n",
    "5. Does the number of pictures that a listing has increase the sale price?\n",
    "6. Which months have the highest average sale price?\n",
    "\n",
    "We'll start by importing the clean data to a `df` variable and look at the `df.info()` and `df.describe()` methods."
   ]
  },
  {
   "cell_type": "code",
   "execution_count": 2,
   "metadata": {},
   "outputs": [],
   "source": [
    "df = pd.read_csv('autos_clean.csv')"
   ]
  },
  {
   "cell_type": "code",
   "execution_count": 3,
   "metadata": {},
   "outputs": [
    {
     "data": {
      "text/html": [
       "<div>\n",
       "<style scoped>\n",
       "    .dataframe tbody tr th:only-of-type {\n",
       "        vertical-align: middle;\n",
       "    }\n",
       "\n",
       "    .dataframe tbody tr th {\n",
       "        vertical-align: top;\n",
       "    }\n",
       "\n",
       "    .dataframe thead th {\n",
       "        text-align: right;\n",
       "    }\n",
       "</style>\n",
       "<table border=\"1\" class=\"dataframe\">\n",
       "  <thead>\n",
       "    <tr style=\"text-align: right;\">\n",
       "      <th></th>\n",
       "      <th>date_crawled</th>\n",
       "      <th>name</th>\n",
       "      <th>price</th>\n",
       "      <th>ab_test</th>\n",
       "      <th>vehicle_type</th>\n",
       "      <th>registration_year</th>\n",
       "      <th>gear_box</th>\n",
       "      <th>power_ps</th>\n",
       "      <th>model</th>\n",
       "      <th>odometer_km</th>\n",
       "      <th>registration_month</th>\n",
       "      <th>fuel_type</th>\n",
       "      <th>brand</th>\n",
       "      <th>unrepaired_damage</th>\n",
       "      <th>ad_created</th>\n",
       "      <th>num_pics</th>\n",
       "      <th>postal_code</th>\n",
       "      <th>last_seen</th>\n",
       "    </tr>\n",
       "  </thead>\n",
       "  <tbody>\n",
       "    <tr>\n",
       "      <td>0</td>\n",
       "      <td>2016-03-26 17:47:46</td>\n",
       "      <td>Peugeot_807_160_NAVTECH_ON_BOARD</td>\n",
       "      <td>5000.0</td>\n",
       "      <td>control</td>\n",
       "      <td>bus</td>\n",
       "      <td>2004.0</td>\n",
       "      <td>manuell</td>\n",
       "      <td>158</td>\n",
       "      <td>andere</td>\n",
       "      <td>150000</td>\n",
       "      <td>3</td>\n",
       "      <td>lpg</td>\n",
       "      <td>peugeot</td>\n",
       "      <td>nein</td>\n",
       "      <td>2016-03-26 00:00:00</td>\n",
       "      <td>0</td>\n",
       "      <td>79588</td>\n",
       "      <td>2016-04-06 06:45:54</td>\n",
       "    </tr>\n",
       "    <tr>\n",
       "      <td>1</td>\n",
       "      <td>2016-04-04 13:38:56</td>\n",
       "      <td>BMW_740i_4_4_Liter_HAMANN_UMBAU_Mega_Optik</td>\n",
       "      <td>8500.0</td>\n",
       "      <td>control</td>\n",
       "      <td>limousine</td>\n",
       "      <td>1997.0</td>\n",
       "      <td>automatik</td>\n",
       "      <td>286</td>\n",
       "      <td>7er</td>\n",
       "      <td>150000</td>\n",
       "      <td>6</td>\n",
       "      <td>benzin</td>\n",
       "      <td>bmw</td>\n",
       "      <td>nein</td>\n",
       "      <td>2016-04-04 00:00:00</td>\n",
       "      <td>0</td>\n",
       "      <td>71034</td>\n",
       "      <td>2016-04-06 14:45:08</td>\n",
       "    </tr>\n",
       "    <tr>\n",
       "      <td>2</td>\n",
       "      <td>2016-03-26 18:57:24</td>\n",
       "      <td>Volkswagen_Golf_1.6_United</td>\n",
       "      <td>8990.0</td>\n",
       "      <td>test</td>\n",
       "      <td>limousine</td>\n",
       "      <td>2009.0</td>\n",
       "      <td>manuell</td>\n",
       "      <td>102</td>\n",
       "      <td>golf</td>\n",
       "      <td>70000</td>\n",
       "      <td>7</td>\n",
       "      <td>benzin</td>\n",
       "      <td>volkswagen</td>\n",
       "      <td>nein</td>\n",
       "      <td>2016-03-26 00:00:00</td>\n",
       "      <td>0</td>\n",
       "      <td>35394</td>\n",
       "      <td>2016-04-06 20:15:37</td>\n",
       "    </tr>\n",
       "    <tr>\n",
       "      <td>3</td>\n",
       "      <td>2016-03-12 16:58:10</td>\n",
       "      <td>Smart_smart_fortwo_coupe_softouch/F1/Klima/Pan...</td>\n",
       "      <td>4350.0</td>\n",
       "      <td>control</td>\n",
       "      <td>kleinwagen</td>\n",
       "      <td>2007.0</td>\n",
       "      <td>automatik</td>\n",
       "      <td>71</td>\n",
       "      <td>fortwo</td>\n",
       "      <td>70000</td>\n",
       "      <td>6</td>\n",
       "      <td>benzin</td>\n",
       "      <td>smart</td>\n",
       "      <td>nein</td>\n",
       "      <td>2016-03-12 00:00:00</td>\n",
       "      <td>0</td>\n",
       "      <td>33729</td>\n",
       "      <td>2016-03-15 03:16:28</td>\n",
       "    </tr>\n",
       "    <tr>\n",
       "      <td>4</td>\n",
       "      <td>2016-04-01 14:38:50</td>\n",
       "      <td>Ford_Focus_1_6_Benzin_TÜV_neu_ist_sehr_gepfleg...</td>\n",
       "      <td>1350.0</td>\n",
       "      <td>test</td>\n",
       "      <td>kombi</td>\n",
       "      <td>2003.0</td>\n",
       "      <td>manuell</td>\n",
       "      <td>0</td>\n",
       "      <td>focus</td>\n",
       "      <td>150000</td>\n",
       "      <td>7</td>\n",
       "      <td>benzin</td>\n",
       "      <td>ford</td>\n",
       "      <td>nein</td>\n",
       "      <td>2016-04-01 00:00:00</td>\n",
       "      <td>0</td>\n",
       "      <td>39218</td>\n",
       "      <td>2016-04-01 14:38:50</td>\n",
       "    </tr>\n",
       "  </tbody>\n",
       "</table>\n",
       "</div>"
      ],
      "text/plain": [
       "          date_crawled                                               name  \\\n",
       "0  2016-03-26 17:47:46                   Peugeot_807_160_NAVTECH_ON_BOARD   \n",
       "1  2016-04-04 13:38:56         BMW_740i_4_4_Liter_HAMANN_UMBAU_Mega_Optik   \n",
       "2  2016-03-26 18:57:24                         Volkswagen_Golf_1.6_United   \n",
       "3  2016-03-12 16:58:10  Smart_smart_fortwo_coupe_softouch/F1/Klima/Pan...   \n",
       "4  2016-04-01 14:38:50  Ford_Focus_1_6_Benzin_TÜV_neu_ist_sehr_gepfleg...   \n",
       "\n",
       "    price  ab_test vehicle_type  registration_year   gear_box  power_ps  \\\n",
       "0  5000.0  control          bus             2004.0    manuell       158   \n",
       "1  8500.0  control    limousine             1997.0  automatik       286   \n",
       "2  8990.0     test    limousine             2009.0    manuell       102   \n",
       "3  4350.0  control   kleinwagen             2007.0  automatik        71   \n",
       "4  1350.0     test        kombi             2003.0    manuell         0   \n",
       "\n",
       "    model  odometer_km  registration_month fuel_type       brand  \\\n",
       "0  andere       150000                   3       lpg     peugeot   \n",
       "1     7er       150000                   6    benzin         bmw   \n",
       "2    golf        70000                   7    benzin  volkswagen   \n",
       "3  fortwo        70000                   6    benzin       smart   \n",
       "4   focus       150000                   7    benzin        ford   \n",
       "\n",
       "  unrepaired_damage           ad_created  num_pics  postal_code  \\\n",
       "0              nein  2016-03-26 00:00:00         0        79588   \n",
       "1              nein  2016-04-04 00:00:00         0        71034   \n",
       "2              nein  2016-03-26 00:00:00         0        35394   \n",
       "3              nein  2016-03-12 00:00:00         0        33729   \n",
       "4              nein  2016-04-01 00:00:00         0        39218   \n",
       "\n",
       "             last_seen  \n",
       "0  2016-04-06 06:45:54  \n",
       "1  2016-04-06 14:45:08  \n",
       "2  2016-04-06 20:15:37  \n",
       "3  2016-03-15 03:16:28  \n",
       "4  2016-04-01 14:38:50  "
      ]
     },
     "execution_count": 3,
     "metadata": {},
     "output_type": "execute_result"
    }
   ],
   "source": [
    "df.head()"
   ]
  },
  {
   "cell_type": "code",
   "execution_count": 4,
   "metadata": {},
   "outputs": [
    {
     "name": "stdout",
     "output_type": "stream",
     "text": [
      "<class 'pandas.core.frame.DataFrame'>\n",
      "RangeIndex: 48216 entries, 0 to 48215\n",
      "Data columns (total 18 columns):\n",
      "date_crawled          48216 non-null object\n",
      "name                  48216 non-null object\n",
      "price                 48216 non-null float64\n",
      "ab_test               48216 non-null object\n",
      "vehicle_type          43794 non-null object\n",
      "registration_year     46344 non-null float64\n",
      "gear_box              46012 non-null object\n",
      "power_ps              48216 non-null int64\n",
      "model                 45822 non-null object\n",
      "odometer_km           48216 non-null int64\n",
      "registration_month    48216 non-null int64\n",
      "fuel_type             44338 non-null object\n",
      "brand                 48216 non-null object\n",
      "unrepaired_damage     39333 non-null object\n",
      "ad_created            48216 non-null object\n",
      "num_pics              48216 non-null int64\n",
      "postal_code           48216 non-null int64\n",
      "last_seen             48216 non-null object\n",
      "dtypes: float64(2), int64(5), object(11)\n",
      "memory usage: 6.6+ MB\n"
     ]
    }
   ],
   "source": [
    "df.info()"
   ]
  },
  {
   "cell_type": "code",
   "execution_count": 7,
   "metadata": {},
   "outputs": [
    {
     "data": {
      "text/html": [
       "<div>\n",
       "<style scoped>\n",
       "    .dataframe tbody tr th:only-of-type {\n",
       "        vertical-align: middle;\n",
       "    }\n",
       "\n",
       "    .dataframe tbody tr th {\n",
       "        vertical-align: top;\n",
       "    }\n",
       "\n",
       "    .dataframe thead th {\n",
       "        text-align: right;\n",
       "    }\n",
       "</style>\n",
       "<table border=\"1\" class=\"dataframe\">\n",
       "  <thead>\n",
       "    <tr style=\"text-align: right;\">\n",
       "      <th></th>\n",
       "      <th>date_crawled</th>\n",
       "      <th>name</th>\n",
       "      <th>price</th>\n",
       "      <th>ab_test</th>\n",
       "      <th>vehicle_type</th>\n",
       "      <th>registration_year</th>\n",
       "      <th>gear_box</th>\n",
       "      <th>power_ps</th>\n",
       "      <th>model</th>\n",
       "      <th>odometer_km</th>\n",
       "      <th>registration_month</th>\n",
       "      <th>fuel_type</th>\n",
       "      <th>brand</th>\n",
       "      <th>unrepaired_damage</th>\n",
       "      <th>ad_created</th>\n",
       "      <th>num_pics</th>\n",
       "      <th>postal_code</th>\n",
       "      <th>last_seen</th>\n",
       "    </tr>\n",
       "  </thead>\n",
       "  <tbody>\n",
       "    <tr>\n",
       "      <td>count</td>\n",
       "      <td>48216</td>\n",
       "      <td>48216</td>\n",
       "      <td>48216.000000</td>\n",
       "      <td>48216</td>\n",
       "      <td>43794</td>\n",
       "      <td>46344.000000</td>\n",
       "      <td>46012</td>\n",
       "      <td>48216.000000</td>\n",
       "      <td>45822</td>\n",
       "      <td>48216.000000</td>\n",
       "      <td>48216.000000</td>\n",
       "      <td>44338</td>\n",
       "      <td>48216</td>\n",
       "      <td>39333</td>\n",
       "      <td>48216</td>\n",
       "      <td>48216.0</td>\n",
       "      <td>48216.000000</td>\n",
       "      <td>48216</td>\n",
       "    </tr>\n",
       "    <tr>\n",
       "      <td>unique</td>\n",
       "      <td>46564</td>\n",
       "      <td>37157</td>\n",
       "      <td>NaN</td>\n",
       "      <td>2</td>\n",
       "      <td>8</td>\n",
       "      <td>NaN</td>\n",
       "      <td>2</td>\n",
       "      <td>NaN</td>\n",
       "      <td>245</td>\n",
       "      <td>NaN</td>\n",
       "      <td>NaN</td>\n",
       "      <td>7</td>\n",
       "      <td>40</td>\n",
       "      <td>2</td>\n",
       "      <td>76</td>\n",
       "      <td>NaN</td>\n",
       "      <td>NaN</td>\n",
       "      <td>38227</td>\n",
       "    </tr>\n",
       "    <tr>\n",
       "      <td>top</td>\n",
       "      <td>2016-03-25 19:57:10</td>\n",
       "      <td>Ford_Fiesta</td>\n",
       "      <td>NaN</td>\n",
       "      <td>test</td>\n",
       "      <td>limousine</td>\n",
       "      <td>NaN</td>\n",
       "      <td>manuell</td>\n",
       "      <td>NaN</td>\n",
       "      <td>golf</td>\n",
       "      <td>NaN</td>\n",
       "      <td>NaN</td>\n",
       "      <td>benzin</td>\n",
       "      <td>volkswagen</td>\n",
       "      <td>nein</td>\n",
       "      <td>2016-04-03 00:00:00</td>\n",
       "      <td>NaN</td>\n",
       "      <td>NaN</td>\n",
       "      <td>2016-04-07 06:17:27</td>\n",
       "    </tr>\n",
       "    <tr>\n",
       "      <td>freq</td>\n",
       "      <td>3</td>\n",
       "      <td>76</td>\n",
       "      <td>NaN</td>\n",
       "      <td>24821</td>\n",
       "      <td>12558</td>\n",
       "      <td>NaN</td>\n",
       "      <td>35922</td>\n",
       "      <td>NaN</td>\n",
       "      <td>3876</td>\n",
       "      <td>NaN</td>\n",
       "      <td>NaN</td>\n",
       "      <td>29196</td>\n",
       "      <td>10271</td>\n",
       "      <td>34704</td>\n",
       "      <td>1873</td>\n",
       "      <td>NaN</td>\n",
       "      <td>NaN</td>\n",
       "      <td>8</td>\n",
       "    </tr>\n",
       "    <tr>\n",
       "      <td>mean</td>\n",
       "      <td>NaN</td>\n",
       "      <td>NaN</td>\n",
       "      <td>5884.005973</td>\n",
       "      <td>NaN</td>\n",
       "      <td>NaN</td>\n",
       "      <td>2002.939000</td>\n",
       "      <td>NaN</td>\n",
       "      <td>117.636262</td>\n",
       "      <td>NaN</td>\n",
       "      <td>125936.100050</td>\n",
       "      <td>5.801767</td>\n",
       "      <td>NaN</td>\n",
       "      <td>NaN</td>\n",
       "      <td>NaN</td>\n",
       "      <td>NaN</td>\n",
       "      <td>0.0</td>\n",
       "      <td>50985.161254</td>\n",
       "      <td>NaN</td>\n",
       "    </tr>\n",
       "    <tr>\n",
       "      <td>std</td>\n",
       "      <td>NaN</td>\n",
       "      <td>NaN</td>\n",
       "      <td>8316.716166</td>\n",
       "      <td>NaN</td>\n",
       "      <td>NaN</td>\n",
       "      <td>7.125617</td>\n",
       "      <td>NaN</td>\n",
       "      <td>201.187354</td>\n",
       "      <td>NaN</td>\n",
       "      <td>39522.800119</td>\n",
       "      <td>3.677120</td>\n",
       "      <td>NaN</td>\n",
       "      <td>NaN</td>\n",
       "      <td>NaN</td>\n",
       "      <td>NaN</td>\n",
       "      <td>0.0</td>\n",
       "      <td>25738.275135</td>\n",
       "      <td>NaN</td>\n",
       "    </tr>\n",
       "    <tr>\n",
       "      <td>min</td>\n",
       "      <td>NaN</td>\n",
       "      <td>NaN</td>\n",
       "      <td>100.000000</td>\n",
       "      <td>NaN</td>\n",
       "      <td>NaN</td>\n",
       "      <td>1910.000000</td>\n",
       "      <td>NaN</td>\n",
       "      <td>0.000000</td>\n",
       "      <td>NaN</td>\n",
       "      <td>5000.000000</td>\n",
       "      <td>0.000000</td>\n",
       "      <td>NaN</td>\n",
       "      <td>NaN</td>\n",
       "      <td>NaN</td>\n",
       "      <td>NaN</td>\n",
       "      <td>0.0</td>\n",
       "      <td>1067.000000</td>\n",
       "      <td>NaN</td>\n",
       "    </tr>\n",
       "    <tr>\n",
       "      <td>25%</td>\n",
       "      <td>NaN</td>\n",
       "      <td>NaN</td>\n",
       "      <td>1250.000000</td>\n",
       "      <td>NaN</td>\n",
       "      <td>NaN</td>\n",
       "      <td>1999.000000</td>\n",
       "      <td>NaN</td>\n",
       "      <td>73.000000</td>\n",
       "      <td>NaN</td>\n",
       "      <td>125000.000000</td>\n",
       "      <td>3.000000</td>\n",
       "      <td>NaN</td>\n",
       "      <td>NaN</td>\n",
       "      <td>NaN</td>\n",
       "      <td>NaN</td>\n",
       "      <td>0.0</td>\n",
       "      <td>30823.000000</td>\n",
       "      <td>NaN</td>\n",
       "    </tr>\n",
       "    <tr>\n",
       "      <td>50%</td>\n",
       "      <td>NaN</td>\n",
       "      <td>NaN</td>\n",
       "      <td>3000.000000</td>\n",
       "      <td>NaN</td>\n",
       "      <td>NaN</td>\n",
       "      <td>2003.000000</td>\n",
       "      <td>NaN</td>\n",
       "      <td>107.000000</td>\n",
       "      <td>NaN</td>\n",
       "      <td>150000.000000</td>\n",
       "      <td>6.000000</td>\n",
       "      <td>NaN</td>\n",
       "      <td>NaN</td>\n",
       "      <td>NaN</td>\n",
       "      <td>NaN</td>\n",
       "      <td>0.0</td>\n",
       "      <td>49716.000000</td>\n",
       "      <td>NaN</td>\n",
       "    </tr>\n",
       "    <tr>\n",
       "      <td>75%</td>\n",
       "      <td>NaN</td>\n",
       "      <td>NaN</td>\n",
       "      <td>7499.000000</td>\n",
       "      <td>NaN</td>\n",
       "      <td>NaN</td>\n",
       "      <td>2008.000000</td>\n",
       "      <td>NaN</td>\n",
       "      <td>150.000000</td>\n",
       "      <td>NaN</td>\n",
       "      <td>150000.000000</td>\n",
       "      <td>9.000000</td>\n",
       "      <td>NaN</td>\n",
       "      <td>NaN</td>\n",
       "      <td>NaN</td>\n",
       "      <td>NaN</td>\n",
       "      <td>0.0</td>\n",
       "      <td>71666.750000</td>\n",
       "      <td>NaN</td>\n",
       "    </tr>\n",
       "    <tr>\n",
       "      <td>max</td>\n",
       "      <td>NaN</td>\n",
       "      <td>NaN</td>\n",
       "      <td>198000.000000</td>\n",
       "      <td>NaN</td>\n",
       "      <td>NaN</td>\n",
       "      <td>2016.000000</td>\n",
       "      <td>NaN</td>\n",
       "      <td>17700.000000</td>\n",
       "      <td>NaN</td>\n",
       "      <td>150000.000000</td>\n",
       "      <td>12.000000</td>\n",
       "      <td>NaN</td>\n",
       "      <td>NaN</td>\n",
       "      <td>NaN</td>\n",
       "      <td>NaN</td>\n",
       "      <td>0.0</td>\n",
       "      <td>99998.000000</td>\n",
       "      <td>NaN</td>\n",
       "    </tr>\n",
       "  </tbody>\n",
       "</table>\n",
       "</div>"
      ],
      "text/plain": [
       "               date_crawled         name          price ab_test vehicle_type  \\\n",
       "count                 48216        48216   48216.000000   48216        43794   \n",
       "unique                46564        37157            NaN       2            8   \n",
       "top     2016-03-25 19:57:10  Ford_Fiesta            NaN    test    limousine   \n",
       "freq                      3           76            NaN   24821        12558   \n",
       "mean                    NaN          NaN    5884.005973     NaN          NaN   \n",
       "std                     NaN          NaN    8316.716166     NaN          NaN   \n",
       "min                     NaN          NaN     100.000000     NaN          NaN   \n",
       "25%                     NaN          NaN    1250.000000     NaN          NaN   \n",
       "50%                     NaN          NaN    3000.000000     NaN          NaN   \n",
       "75%                     NaN          NaN    7499.000000     NaN          NaN   \n",
       "max                     NaN          NaN  198000.000000     NaN          NaN   \n",
       "\n",
       "        registration_year gear_box      power_ps  model    odometer_km  \\\n",
       "count        46344.000000    46012  48216.000000  45822   48216.000000   \n",
       "unique                NaN        2           NaN    245            NaN   \n",
       "top                   NaN  manuell           NaN   golf            NaN   \n",
       "freq                  NaN    35922           NaN   3876            NaN   \n",
       "mean          2002.939000      NaN    117.636262    NaN  125936.100050   \n",
       "std              7.125617      NaN    201.187354    NaN   39522.800119   \n",
       "min           1910.000000      NaN      0.000000    NaN    5000.000000   \n",
       "25%           1999.000000      NaN     73.000000    NaN  125000.000000   \n",
       "50%           2003.000000      NaN    107.000000    NaN  150000.000000   \n",
       "75%           2008.000000      NaN    150.000000    NaN  150000.000000   \n",
       "max           2016.000000      NaN  17700.000000    NaN  150000.000000   \n",
       "\n",
       "        registration_month fuel_type       brand unrepaired_damage  \\\n",
       "count         48216.000000     44338       48216             39333   \n",
       "unique                 NaN         7          40                 2   \n",
       "top                    NaN    benzin  volkswagen              nein   \n",
       "freq                   NaN     29196       10271             34704   \n",
       "mean              5.801767       NaN         NaN               NaN   \n",
       "std               3.677120       NaN         NaN               NaN   \n",
       "min               0.000000       NaN         NaN               NaN   \n",
       "25%               3.000000       NaN         NaN               NaN   \n",
       "50%               6.000000       NaN         NaN               NaN   \n",
       "75%               9.000000       NaN         NaN               NaN   \n",
       "max              12.000000       NaN         NaN               NaN   \n",
       "\n",
       "                 ad_created  num_pics   postal_code            last_seen  \n",
       "count                 48216   48216.0  48216.000000                48216  \n",
       "unique                   76       NaN           NaN                38227  \n",
       "top     2016-04-03 00:00:00       NaN           NaN  2016-04-07 06:17:27  \n",
       "freq                   1873       NaN           NaN                    8  \n",
       "mean                    NaN       0.0  50985.161254                  NaN  \n",
       "std                     NaN       0.0  25738.275135                  NaN  \n",
       "min                     NaN       0.0   1067.000000                  NaN  \n",
       "25%                     NaN       0.0  30823.000000                  NaN  \n",
       "50%                     NaN       0.0  49716.000000                  NaN  \n",
       "75%                     NaN       0.0  71666.750000                  NaN  \n",
       "max                     NaN       0.0  99998.000000                  NaN  "
      ]
     },
     "execution_count": 7,
     "metadata": {},
     "output_type": "execute_result"
    }
   ],
   "source": [
    "df.describe(include='all')"
   ]
  },
  {
   "cell_type": "markdown",
   "metadata": {},
   "source": [
    "### Question 1: Which car brand is most common?"
   ]
  },
  {
   "cell_type": "code",
   "execution_count": 10,
   "metadata": {},
   "outputs": [
    {
     "data": {
      "text/plain": [
       "volkswagen        10271\n",
       "bmw                5241\n",
       "opel               5223\n",
       "mercedes_benz      4628\n",
       "audi               4147\n",
       "ford               3356\n",
       "renault            2306\n",
       "peugeot            1420\n",
       "fiat               1252\n",
       "seat                913\n",
       "skoda               775\n",
       "nissan              739\n",
       "mazda               736\n",
       "smart               690\n",
       "citroen             682\n",
       "toyota              611\n",
       "hyundai             479\n",
       "sonstige_autos      454\n",
       "volvo               435\n",
       "mini                417\n",
       "mitsubishi          394\n",
       "honda               387\n",
       "kia                 343\n",
       "alfa_romeo          320\n",
       "suzuki              284\n",
       "porsche             275\n",
       "chevrolet           272\n",
       "chrysler            168\n",
       "dacia               129\n",
       "daihatsu            121\n",
       "jeep                108\n",
       "subaru              101\n",
       "land_rover           99\n",
       "saab                 79\n",
       "daewoo               75\n",
       "jaguar               72\n",
       "trabant              66\n",
       "rover                65\n",
       "lancia               54\n",
       "lada                 29\n",
       "Name: brand, dtype: int64"
      ]
     },
     "execution_count": 10,
     "metadata": {},
     "output_type": "execute_result"
    }
   ],
   "source": [
    "df.brand.value_counts()"
   ]
  },
  {
   "cell_type": "markdown",
   "metadata": {},
   "source": [
    "The first question is fairly straightforward ot answer using the `value_counts()` method. We can easily see that Volkswagen is the most commonly sold car brand on Ebay in our dataset. In fact, the top 5 brands sold on Ebay in our dataset are German carmakers. This is likely a result of this data originally being scraped from Ebay in Germany. Ford is the only American carmaker in the top 10 brands sold on Ebay in Germany."
   ]
  },
  {
   "cell_type": "markdown",
   "metadata": {},
   "source": [
    "### Question 2: Which car brand sells for the most amount of money on average?"
   ]
  },
  {
   "cell_type": "markdown",
   "metadata": {},
   "source": [
    "Let's take the top 10 brands from the previous question for this analysis. We'll store the average sale price for each brand in a Pandas series object so that we can use the `sort_values()` method to determine the brand with the highest average sale price."
   ]
  },
  {
   "cell_type": "code",
   "execution_count": 11,
   "metadata": {},
   "outputs": [],
   "source": [
    "top_10_brands = df.brand.value_counts().index[:10]"
   ]
  },
  {
   "cell_type": "code",
   "execution_count": 12,
   "metadata": {},
   "outputs": [
    {
     "data": {
      "text/plain": [
       "Index(['volkswagen', 'bmw', 'opel', 'mercedes_benz', 'audi', 'ford', 'renault',\n",
       "       'peugeot', 'fiat', 'seat'],\n",
       "      dtype='object')"
      ]
     },
     "execution_count": 12,
     "metadata": {},
     "output_type": "execute_result"
    }
   ],
   "source": [
    "top_10_brands"
   ]
  },
  {
   "cell_type": "code",
   "execution_count": 43,
   "metadata": {},
   "outputs": [],
   "source": [
    "brand_avg_price = pd.Series()\n",
    "\n",
    "for brand in top_10_brands:\n",
    "    total = df[df['brand'] == brand].price.sum()\n",
    "    num_brand = df[df['brand'] == brand].shape[0]\n",
    "    avg_price = total/num_brand\n",
    "    brand_avg_price[brand] = avg_price"
   ]
  },
  {
   "cell_type": "code",
   "execution_count": 44,
   "metadata": {},
   "outputs": [
    {
     "data": {
      "text/plain": [
       "volkswagen       5366.032713\n",
       "bmw              8216.190803\n",
       "opel             2974.764503\n",
       "mercedes_benz    8580.202247\n",
       "audi             9259.510248\n",
       "ford             3756.991955\n",
       "renault          2450.901561\n",
       "peugeot          3086.930282\n",
       "fiat             2815.635783\n",
       "seat             4348.652793\n",
       "dtype: float64"
      ]
     },
     "execution_count": 44,
     "metadata": {},
     "output_type": "execute_result"
    }
   ],
   "source": [
    "brand_avg_price"
   ]
  },
  {
   "cell_type": "code",
   "execution_count": 47,
   "metadata": {},
   "outputs": [
    {
     "data": {
      "text/plain": [
       "audi             9259.510248\n",
       "mercedes_benz    8580.202247\n",
       "bmw              8216.190803\n",
       "volkswagen       5366.032713\n",
       "seat             4348.652793\n",
       "ford             3756.991955\n",
       "peugeot          3086.930282\n",
       "opel             2974.764503\n",
       "fiat             2815.635783\n",
       "renault          2450.901561\n",
       "dtype: float64"
      ]
     },
     "execution_count": 47,
     "metadata": {},
     "output_type": "execute_result"
    }
   ],
   "source": [
    "brand_avg_price.sort_values(ascending=False)"
   ]
  },
  {
   "cell_type": "markdown",
   "metadata": {},
   "source": [
    "Voila! It looks like Audi cars resell with the highest average prices on Ebay in Germany."
   ]
  },
  {
   "cell_type": "markdown",
   "metadata": {},
   "source": [
    "### Question 3: Does the car's mileage impact it's sale price?"
   ]
  },
  {
   "cell_type": "code",
   "execution_count": 64,
   "metadata": {},
   "outputs": [],
   "source": [
    "brand_avg_mileage = pd.Series()\n",
    "\n",
    "for brand in top_10_brands:\n",
    "    total = df[df['brand'] == brand].odometer_km.sum()\n",
    "    num_brand = df[df['brand'] == brand].shape[0]\n",
    "    avg_mileage = total/num_brand\n",
    "    brand_avg_mileage[brand] = avg_mileage"
   ]
  },
  {
   "cell_type": "code",
   "execution_count": 65,
   "metadata": {},
   "outputs": [
    {
     "data": {
      "text/plain": [
       "bmw              132870.635375\n",
       "mercedes_benz    131027.441659\n",
       "audi             129604.533398\n",
       "opel             129442.848937\n",
       "volkswagen       129008.859897\n",
       "renault          128261.058109\n",
       "peugeot          127316.901408\n",
       "ford             124360.846246\n",
       "seat             122020.810515\n",
       "fiat             117408.146965\n",
       "dtype: float64"
      ]
     },
     "execution_count": 65,
     "metadata": {},
     "output_type": "execute_result"
    }
   ],
   "source": [
    "brand_avg_mileage.sort_values(ascending=False)"
   ]
  },
  {
   "cell_type": "markdown",
   "metadata": {},
   "source": [
    "It looks like BMW cars sold on Ebay have had the highest average mileage in km.\n",
    "\n",
    "Next, let's combine our average price and average mileage data for the top 10 brands in a single dataframe."
   ]
  },
  {
   "cell_type": "code",
   "execution_count": 82,
   "metadata": {},
   "outputs": [],
   "source": [
    "brand_avg_price_mileage = pd.DataFrame(brand_avg_price, columns=['mean_price'])"
   ]
  },
  {
   "cell_type": "code",
   "execution_count": 84,
   "metadata": {},
   "outputs": [],
   "source": [
    "brand_avg_price_mileage['mean_mileage'] = brand_avg_mileage"
   ]
  },
  {
   "cell_type": "code",
   "execution_count": 85,
   "metadata": {},
   "outputs": [
    {
     "data": {
      "text/html": [
       "<div>\n",
       "<style scoped>\n",
       "    .dataframe tbody tr th:only-of-type {\n",
       "        vertical-align: middle;\n",
       "    }\n",
       "\n",
       "    .dataframe tbody tr th {\n",
       "        vertical-align: top;\n",
       "    }\n",
       "\n",
       "    .dataframe thead th {\n",
       "        text-align: right;\n",
       "    }\n",
       "</style>\n",
       "<table border=\"1\" class=\"dataframe\">\n",
       "  <thead>\n",
       "    <tr style=\"text-align: right;\">\n",
       "      <th></th>\n",
       "      <th>mean_price</th>\n",
       "      <th>mean_mileage</th>\n",
       "    </tr>\n",
       "  </thead>\n",
       "  <tbody>\n",
       "    <tr>\n",
       "      <td>volkswagen</td>\n",
       "      <td>5366.032713</td>\n",
       "      <td>129008.859897</td>\n",
       "    </tr>\n",
       "    <tr>\n",
       "      <td>bmw</td>\n",
       "      <td>8216.190803</td>\n",
       "      <td>132870.635375</td>\n",
       "    </tr>\n",
       "    <tr>\n",
       "      <td>opel</td>\n",
       "      <td>2974.764503</td>\n",
       "      <td>129442.848937</td>\n",
       "    </tr>\n",
       "    <tr>\n",
       "      <td>mercedes_benz</td>\n",
       "      <td>8580.202247</td>\n",
       "      <td>131027.441659</td>\n",
       "    </tr>\n",
       "    <tr>\n",
       "      <td>audi</td>\n",
       "      <td>9259.510248</td>\n",
       "      <td>129604.533398</td>\n",
       "    </tr>\n",
       "    <tr>\n",
       "      <td>ford</td>\n",
       "      <td>3756.991955</td>\n",
       "      <td>124360.846246</td>\n",
       "    </tr>\n",
       "    <tr>\n",
       "      <td>renault</td>\n",
       "      <td>2450.901561</td>\n",
       "      <td>128261.058109</td>\n",
       "    </tr>\n",
       "    <tr>\n",
       "      <td>peugeot</td>\n",
       "      <td>3086.930282</td>\n",
       "      <td>127316.901408</td>\n",
       "    </tr>\n",
       "    <tr>\n",
       "      <td>fiat</td>\n",
       "      <td>2815.635783</td>\n",
       "      <td>117408.146965</td>\n",
       "    </tr>\n",
       "    <tr>\n",
       "      <td>seat</td>\n",
       "      <td>4348.652793</td>\n",
       "      <td>122020.810515</td>\n",
       "    </tr>\n",
       "  </tbody>\n",
       "</table>\n",
       "</div>"
      ],
      "text/plain": [
       "                mean_price   mean_mileage\n",
       "volkswagen     5366.032713  129008.859897\n",
       "bmw            8216.190803  132870.635375\n",
       "opel           2974.764503  129442.848937\n",
       "mercedes_benz  8580.202247  131027.441659\n",
       "audi           9259.510248  129604.533398\n",
       "ford           3756.991955  124360.846246\n",
       "renault        2450.901561  128261.058109\n",
       "peugeot        3086.930282  127316.901408\n",
       "fiat           2815.635783  117408.146965\n",
       "seat           4348.652793  122020.810515"
      ]
     },
     "execution_count": 85,
     "metadata": {},
     "output_type": "execute_result"
    }
   ],
   "source": [
    "brand_avg_price_mileage"
   ]
  },
  {
   "cell_type": "markdown",
   "metadata": {},
   "source": [
    "It doesn't appear that there is a significant impact of mileage on sale price, especially in the car brands that tend to sell for the highest prices."
   ]
  },
  {
   "cell_type": "markdown",
   "metadata": {},
   "source": [
    "### Question 4: Do automatic or manual cars have a higher resale value?"
   ]
  },
  {
   "cell_type": "code",
   "execution_count": 50,
   "metadata": {},
   "outputs": [],
   "source": [
    "automatic_avg_price = (df[df['gear_box'] == 'automatik'].price.sum())/(df[df['gear_box'] == 'automatik'].price.shape[0])"
   ]
  },
  {
   "cell_type": "code",
   "execution_count": 51,
   "metadata": {},
   "outputs": [],
   "source": [
    "manual_avg_price = (df[df['gear_box'] == 'manuell'].price.sum())/(df[df['gear_box'] == 'manuell'].price.shape[0])"
   ]
  },
  {
   "cell_type": "code",
   "execution_count": 52,
   "metadata": {},
   "outputs": [
    {
     "data": {
      "text/plain": [
       "10800.342120911793"
      ]
     },
     "execution_count": 52,
     "metadata": {},
     "output_type": "execute_result"
    }
   ],
   "source": [
    "automatic_avg_price"
   ]
  },
  {
   "cell_type": "code",
   "execution_count": 53,
   "metadata": {},
   "outputs": [
    {
     "data": {
      "text/plain": [
       "4651.511302266021"
      ]
     },
     "execution_count": 53,
     "metadata": {},
     "output_type": "execute_result"
    }
   ],
   "source": [
    "manual_avg_price"
   ]
  },
  {
   "cell_type": "code",
   "execution_count": 55,
   "metadata": {},
   "outputs": [],
   "source": [
    "num_automatic_cars = df[df['gear_box'] == 'automatik'].price.shape[0]\n",
    "num_manual_cars = df[df['gear_box'] == 'manuell'].price.shape[0]"
   ]
  },
  {
   "cell_type": "code",
   "execution_count": 60,
   "metadata": {},
   "outputs": [
    {
     "name": "stdout",
     "output_type": "stream",
     "text": [
      "Num automatic cars: 10090\n",
      "Num manual cars: 35922\n"
     ]
    }
   ],
   "source": [
    "print(f'Num automatic cars: {num_automatic_cars}')\n",
    "print(f'Num manual cars: {num_manual_cars}')"
   ]
  },
  {
   "cell_type": "markdown",
   "metadata": {},
   "source": [
    "Wow! Automatic cars seem to resell at an average price multiple of over 2x compared to maual cars! That was not an expected finding. It is important to note that there are over 3 times more manual cars in the dataset compared to automatic cars. This may skew the average prices somewhat."
   ]
  },
  {
   "cell_type": "markdown",
   "metadata": {},
   "source": [
    "### Question 5: Does the number of pictures that a listing has increase the sale price?"
   ]
  },
  {
   "cell_type": "code",
   "execution_count": 63,
   "metadata": {},
   "outputs": [
    {
     "data": {
      "text/plain": [
       "0    48216\n",
       "Name: num_pics, dtype: int64"
      ]
     },
     "execution_count": 63,
     "metadata": {},
     "output_type": "execute_result"
    }
   ],
   "source": [
    "df.num_pics.value_counts()"
   ]
  },
  {
   "cell_type": "markdown",
   "metadata": {},
   "source": [
    "Unfortunately, it looks like this column actually contains no data at all...guess we won't be able to determine the impact of listing pictures on price."
   ]
  },
  {
   "cell_type": "markdown",
   "metadata": {},
   "source": [
    "### Question 6: Which months have the highest average sale price?"
   ]
  },
  {
   "cell_type": "markdown",
   "metadata": {},
   "source": [
    "To better answer this question, let's create a new column in the df that stores just the month in numerical form that each listing was posted."
   ]
  },
  {
   "cell_type": "code",
   "execution_count": 106,
   "metadata": {},
   "outputs": [],
   "source": [
    "df['month_posted'] = df.ad_created.str[:10].str.split('-').str[1].astype(int)"
   ]
  },
  {
   "cell_type": "code",
   "execution_count": 107,
   "metadata": {},
   "outputs": [
    {
     "data": {
      "text/plain": [
       "0        3\n",
       "1        4\n",
       "2        3\n",
       "3        3\n",
       "4        4\n",
       "        ..\n",
       "48211    3\n",
       "48212    3\n",
       "48213    4\n",
       "48214    3\n",
       "48215    3\n",
       "Name: month_posted, Length: 48216, dtype: int64"
      ]
     },
     "execution_count": 107,
     "metadata": {},
     "output_type": "execute_result"
    }
   ],
   "source": [
    "df['month_posted']"
   ]
  },
  {
   "cell_type": "code",
   "execution_count": 128,
   "metadata": {},
   "outputs": [
    {
     "data": {
      "text/plain": [
       "count    48216.000000\n",
       "mean         3.160071\n",
       "std          0.379189\n",
       "min          1.000000\n",
       "25%          3.000000\n",
       "50%          3.000000\n",
       "75%          3.000000\n",
       "max         12.000000\n",
       "Name: month_posted, dtype: float64"
      ]
     },
     "execution_count": 128,
     "metadata": {},
     "output_type": "execute_result"
    }
   ],
   "source": [
    "df.month_posted.describe()"
   ]
  },
  {
   "cell_type": "code",
   "execution_count": 124,
   "metadata": {},
   "outputs": [
    {
     "data": {
      "text/plain": [
       "Int64Index([3, 4, 2, 1, 12, 11, 9, 8, 6], dtype='int64')"
      ]
     },
     "execution_count": 124,
     "metadata": {},
     "output_type": "execute_result"
    }
   ],
   "source": [
    "months = df.month_posted.value_counts().index\n",
    "months"
   ]
  },
  {
   "cell_type": "markdown",
   "metadata": {},
   "source": [
    "Next, let's calculate the average price by month."
   ]
  },
  {
   "cell_type": "code",
   "execution_count": 130,
   "metadata": {},
   "outputs": [
    {
     "name": "stdout",
     "output_type": "stream",
     "text": [
      "3:5829.638455441621\n",
      "4:6148.192193739534\n",
      "2:7128.163934426229\n",
      "1:8564.666666666666\n",
      "12:1650.0\n",
      "11:5499.0\n",
      "9:9500.0\n",
      "8:5200.0\n",
      "6:47900.0\n"
     ]
    }
   ],
   "source": [
    "avg_price_by_month = pd.Series()\n",
    "\n",
    "for month in months:\n",
    "    total = df[df['month_posted'] == month].price.sum()\n",
    "    num_listings = df[df['month_posted'] == month].shape[0]\n",
    "    avg_price = total/num_listings\n",
    "    print(f'{month}:{avg_price}')"
   ]
  },
  {
   "cell_type": "markdown",
   "metadata": {},
   "source": [
    "It looks like the month of June has the highest average sale price, but it seems extremely high relative to the other months. There was likely a single sale of an expensive vehicle durinig this month that has skewed the results.\n",
    "\n",
    "This concludes the EDA for now! I may revisit this project more in the future, but I think I've gotten the practice that I was looking for!"
   ]
  }
 ],
 "metadata": {
  "kernelspec": {
   "display_name": "Python 3",
   "language": "python",
   "name": "python3"
  },
  "language_info": {
   "codemirror_mode": {
    "name": "ipython",
    "version": 3
   },
   "file_extension": ".py",
   "mimetype": "text/x-python",
   "name": "python",
   "nbconvert_exporter": "python",
   "pygments_lexer": "ipython3",
   "version": "3.7.4"
  }
 },
 "nbformat": 4,
 "nbformat_minor": 4
}
